{
 "cells": [
  {
   "cell_type": "code",
   "execution_count": 1,
   "source": [
    "'''\r\n",
    "// DATA WORKS\r\n",
    "// Marcello Belanda\r\n",
    "'''"
   ],
   "outputs": [],
   "metadata": {}
  },
  {
   "cell_type": "code",
   "execution_count": 2,
   "source": [
    "from random import randint"
   ],
   "outputs": [],
   "metadata": {}
  },
  {
   "cell_type": "code",
   "execution_count": 17,
   "source": [
    "# write\r\n",
    "with open(\"./Data.txt\",\"w\") as file:\r\n",
    "    for i in range(100):\r\n",
    "        file.write(str(randint(0,100)))\r\n",
    "        file.write(\"\\n\")\r\n",
    "        \r\n"
   ],
   "outputs": [],
   "metadata": {}
  },
  {
   "cell_type": "code",
   "execution_count": 18,
   "source": [
    "# read\r\n",
    "with open(\"./Data.txt\",\"r\") as file:\r\n",
    "    lines = [lin[:-1] for lin in file.readlines()]\r\n",
    "    print(lines)"
   ],
   "outputs": [
    {
     "output_type": "stream",
     "name": "stdout",
     "text": [
      "['22', '8', '37', '67', '3', '95', '11', '46', '62', '18', '62', '1', '27', '89', '21', '59', '28', '36', '95', '82', '6', '24', '80', '28', '64', '62', '0', '34', '53', '90', '51', '24', '36', '97', '85', '34', '91', '58', '60', '8', '73', '65', '25', '1', '64', '54', '33', '1', '3', '68', '25', '12', '51', '43', '68', '62', '38', '74', '74', '4', '64', '63', '21', '97', '35', '5', '68', '99', '9', '83', '78', '50', '9', '2', '78', '12', '86', '25', '100', '15', '54', '41', '24', '74', '6', '20', '61', '30', '92', '89', '55', '29', '67', '36', '39', '19', '70', '58', '43', '55']\n"
     ]
    }
   ],
   "metadata": {}
  },
  {
   "cell_type": "code",
   "execution_count": 24,
   "source": [
    "\r\n",
    "# Inserction Sort\r\n",
    "\r\n",
    "def mergeSort(list_):\r\n",
    "    if len(list_) < 2:\r\n",
    "        return list_\r\n",
    "    \r\n",
    "    middle = len(list_) // 2\r\n",
    "    \r\n",
    "    left  = mergeSort(list_[:middle])\r\n",
    "    right = mergeSort(list_[middle:])\r\n",
    "    \r\n",
    "    merged = merge(left, right)\r\n",
    "    \r\n",
    "    return merged\r\n",
    "\r\n",
    "def merge(left, right):\r\n",
    "    if not len(left):\r\n",
    "        return left\r\n",
    "    \r\n",
    "    if not len(right):\r\n",
    "        return right\r\n",
    "    \r\n",
    "    result = []\r\n",
    "    leftIndex = 0\r\n",
    "    rightIndex = 0\r\n",
    "    totalLen = len(left) + len(right)\r\n",
    "    \r\n",
    "    while len(result) < totalLen:\r\n",
    "        if left[leftIndex] < right[rightIndex]:\r\n",
    "            result.append(left[leftIndex])\r\n",
    "            leftIndex += 1\r\n",
    "        else:\r\n",
    "            result.append(right[rightIndex])\r\n",
    "            rightIndex += 1\r\n",
    "        \r\n",
    "        if leftIndex == len(left) or rightIndex == len(right):\r\n",
    "            result.extend(left[leftIndex:] or right[rightIndex:])\r\n",
    "            break;\r\n",
    "    \r\n",
    "    return result\r\n",
    "\r\n",
    "l = mergeSort(lines)"
   ],
   "outputs": [],
   "metadata": {}
  },
  {
   "cell_type": "code",
   "execution_count": 29,
   "source": [
    "with open(\"./New_Data.txt\",\"w\") as file:\r\n",
    "    file.write(str(lin for lin in l))"
   ],
   "outputs": [],
   "metadata": {}
  },
  {
   "cell_type": "code",
   "execution_count": 32,
   "source": [
    "with open(\"./New_Data.txt\",\"r\") as file:\r\n",
    "    lines = [lin for lin in file.readlines()]\r\n",
    "\r\n",
    "    print(lines)"
   ],
   "outputs": [
    {
     "output_type": "stream",
     "name": "stdout",
     "text": [
      "['<generator object <genexpr> at 0x000001AC1B714F90>']\n"
     ]
    }
   ],
   "metadata": {}
  },
  {
   "cell_type": "code",
   "execution_count": null,
   "source": [],
   "outputs": [],
   "metadata": {}
  }
 ],
 "metadata": {
  "kernelspec": {
   "display_name": "Python 3",
   "language": "python",
   "name": "python3"
  },
  "language_info": {
   "codemirror_mode": {
    "name": "ipython",
    "version": 3
   },
   "file_extension": ".py",
   "mimetype": "text/x-python",
   "name": "python",
   "nbconvert_exporter": "python",
   "pygments_lexer": "ipython3",
   "version": "3.8.8"
  }
 },
 "nbformat": 4,
 "nbformat_minor": 5
}